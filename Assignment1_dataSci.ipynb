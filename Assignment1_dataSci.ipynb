{
 "cells": [
  {
   "cell_type": "code",
   "execution_count": 1,
   "id": "ce99951f-4d63-4ddc-87e7-2147b26e6490",
   "metadata": {},
   "outputs": [
    {
     "name": "stdout",
     "output_type": "stream",
     "text": [
      "naksuM\n"
     ]
    }
   ],
   "source": [
    "#QUESTION 1\n",
    "#1. Write a Python program to reverse a string without using any built-in string reversal functions.\n",
    "s=\"Muskan\"\n",
    "print(s[::-1])"
   ]
  },
  {
   "cell_type": "code",
   "execution_count": 3,
   "id": "e27efb4a-5967-41d5-b58e-f6d70009a95b",
   "metadata": {},
   "outputs": [
    {
     "name": "stdout",
     "output_type": "stream",
     "text": [
      "The given string 'level' is a palindrome\n"
     ]
    }
   ],
   "source": [
    "#QUESTION 2\n",
    "#Implement a function to check if a given string is a palindrome.\n",
    "s = 'level'\n",
    "if s == s[::-1]:\n",
    "    print(f\"The given string '{s}' is a palindrome\")\n",
    "else:\n",
    "    print(f\"The given string '{s}' is not a palindrome\")"
   ]
  },
  {
   "cell_type": "code",
   "execution_count": 4,
   "id": "579e3be5-1f64-4c10-9c66-7850eaa9e3d7",
   "metadata": {},
   "outputs": [
    {
     "name": "stdout",
     "output_type": "stream",
     "text": [
      "70\n"
     ]
    }
   ],
   "source": [
    "#QUESTION 3\n",
    "# Write a program to find the largest element in a given list.\n",
    "l = [1,4,5,70,12,2,36]\n",
    "maximum = l[0]\n",
    "for i in range(1,len(l)-1):\n",
    "    if l[i] > maximum:\n",
    "        maximum = l[i]\n",
    "print(maximum)"
   ]
  },
  {
   "cell_type": "code",
   "execution_count": 6,
   "id": "a3a3dc72-b87d-462a-b724-2ce4c81a6469",
   "metadata": {},
   "outputs": [
    {
     "name": "stdout",
     "output_type": "stream",
     "text": [
      "{2: 3, 3: 2, 4: 3, 5: 2, 1: 1}\n"
     ]
    }
   ],
   "source": [
    "#QUESTION 4\n",
    "#Implement a function to count the occurrence of each element in a list.\n",
    "l = [2,3,4,5,5,4,3,1,2,2,4]\n",
    "d = dict()\n",
    "for i in l:\n",
    "    d[i] = d.get(i,0) + 1\n",
    "print(d)"
   ]
  },
  {
   "cell_type": "code",
   "execution_count": 8,
   "id": "4ae71627-4969-4091-9019-e5bbd3c5a5f6",
   "metadata": {},
   "outputs": [
    {
     "name": "stdout",
     "output_type": "stream",
     "text": [
      "4\n"
     ]
    }
   ],
   "source": [
    "#QUESTION 5\n",
    "#Write a Python program to find the second largest number in a list.\n",
    "l=[1,2,3,4,5]\n",
    "l.sort()\n",
    "print(l[-2])"
   ]
  },
  {
   "cell_type": "code",
   "execution_count": 9,
   "id": "bad70a04-c068-4f88-92f2-1f5b74c04055",
   "metadata": {},
   "outputs": [
    {
     "data": {
      "text/plain": [
       "24"
      ]
     },
     "execution_count": 9,
     "metadata": {},
     "output_type": "execute_result"
    }
   ],
   "source": [
    "#QUESTION 7\n",
    "#Write a program to calculate the factorial of a given number.\n",
    "n = 4\n",
    "def factorial(n): #recursive function\n",
    "    if n == 1: # base case\n",
    "        return 1\n",
    "    else:\n",
    "        return n * factorial(n-1) \n",
    "factorial(n)"
   ]
  },
  {
   "cell_type": "code",
   "execution_count": 10,
   "id": "eb612cb5-4b06-46ab-9ba2-d3724c3b9f1b",
   "metadata": {},
   "outputs": [
    {
     "name": "stdout",
     "output_type": "stream",
     "text": [
      "[1, 2, 3, 4, 5, 8]\n"
     ]
    }
   ],
   "source": [
    "#QUESTION 6\n",
    "# Implement a function to remove duplicate elements from a list.\n",
    "l = [2,2,4,5,5,4,3,1,2,8,8]\n",
    "print(list(set(l)))"
   ]
  },
  {
   "cell_type": "code",
   "execution_count": 11,
   "id": "5c6f9791-399a-40a7-862a-9cd23c13f857",
   "metadata": {},
   "outputs": [
    {
     "data": {
      "text/plain": [
       "True"
      ]
     },
     "execution_count": 11,
     "metadata": {},
     "output_type": "execute_result"
    }
   ],
   "source": [
    "#8. Implement a function to check if a given number is prime.\n",
    "n = 11\n",
    "def prime_num(n:int)->bool:\n",
    "    \"\"\"checks if a number is prime\n",
    "\n",
    "    Args:\n",
    "        n (int): number to check\n",
    "\n",
    "    Returns:\n",
    "        bool: True if the number is prime\n",
    "    \"\"\"\n",
    "    \n",
    "    if n<2:\n",
    "        return False\n",
    "    flag = True\n",
    "    for i in range(2,n//2+1):\n",
    "        if n%i == 0:\n",
    "            return False\n",
    "    return True\n",
    "prime_num(n)"
   ]
  },
  {
   "cell_type": "code",
   "execution_count": 13,
   "id": "93793f26-69ab-426f-b03a-c8ebc357db39",
   "metadata": {},
   "outputs": [
    {
     "data": {
      "text/plain": [
       "[0, 1, 1, 1, 2, 2, 4, 4, 5, 5, 8]"
      ]
     },
     "execution_count": 13,
     "metadata": {},
     "output_type": "execute_result"
    }
   ],
   "source": [
    "# 9.Write a Python program to sort a list of integers in ascending order.\n",
    "l = [2,1,4,5,5,4,1,1,2,8,0]\n",
    "def listSort(n:list[int])->list[int]:\n",
    "    \"\"\"sorts a given list of numbers in ascending order and\n",
    "    returns a list\n",
    "\n",
    "    Args:\n",
    "        n (list[int]): list of numbers to sort\n",
    "\n",
    "    Returns:\n",
    "        list[int]: sorted list\n",
    "    \"\"\"\n",
    "    return sorted(n)\n",
    "\n",
    "listSort(l)"
   ]
  },
  {
   "cell_type": "code",
   "execution_count": 15,
   "id": "d5f9b559-4328-44d4-bc33-fb9c69167f37",
   "metadata": {},
   "outputs": [
    {
     "data": {
      "text/plain": [
       "47"
      ]
     },
     "execution_count": 15,
     "metadata": {},
     "output_type": "execute_result"
    }
   ],
   "source": [
    "#10 Implement a function to find the sum of all numbers in a list.\n",
    "l = [1,2,3,4,5,5,4,3,1,2,8,9]\n",
    "def listSum(l:list[int]) -> int:\n",
    "    \"\"\"return the sum of the elements of the list\n",
    "\n",
    "    Args:\n",
    "        l (list[int]): list of integers\n",
    "\n",
    "    Returns:\n",
    "        int: sum\n",
    "    \"\"\"\n",
    "    sum = 0\n",
    "    for i in l:\n",
    "        sum += i\n",
    "    return sum\n",
    "listSum(l)"
   ]
  },
  {
   "cell_type": "code",
   "execution_count": 17,
   "id": "5e3a82af-e419-4794-ad9b-387e41b7331e",
   "metadata": {},
   "outputs": [
    {
     "data": {
      "text/plain": [
       "[2, 3, 4]"
      ]
     },
     "execution_count": 17,
     "metadata": {},
     "output_type": "execute_result"
    }
   ],
   "source": [
    "#11. Write a program to find the common elements between two lists.\n",
    "l1 = [2,3,4]\n",
    "l2 = [5,4,3,1,2]\n",
    "def commonElements(l1:list[int],l2:list[int])->list[int]:\n",
    "    \"\"\"takes 2 lists of elements and returns a list of common elements\n",
    "\n",
    "    Args:\n",
    "        l1 (list[int]): array of integers\n",
    "        l2 (list[int]): array of integers\n",
    "\n",
    "    Returns:\n",
    "        list[int]: list of common elements\n",
    "    \"\"\"\n",
    "    return list(set(l1).intersection(set(l2)))\n",
    "commonElements(l1,l2)"
   ]
  },
  {
   "cell_type": "code",
   "execution_count": 18,
   "id": "b664c7ed-1931-4a9d-a0ff-228eea799859",
   "metadata": {},
   "outputs": [
    {
     "data": {
      "text/plain": [
       "True"
      ]
     },
     "execution_count": 18,
     "metadata": {},
     "output_type": "execute_result"
    }
   ],
   "source": [
    "#12. Implement a function to check if a given string is an anagram of another string\n",
    "a = \"listen\"\n",
    "b = \"silent\"\n",
    "def isAnagram(a:str,b:str)->bool:\n",
    "    \"\"\"checks if a and b are anagrams\n",
    "\n",
    "    Args:\n",
    "        a (str): string to check\n",
    "        b (str): string to check\n",
    "\n",
    "    Returns:\n",
    "        bool: True if a and b are anagrams else False\n",
    "    \"\"\"\n",
    "    if sorted(a) == sorted(b):\n",
    "        return True\n",
    "    else:\n",
    "        return False\n",
    "isAnagram(a,b)"
   ]
  },
  {
   "cell_type": "code",
   "execution_count": 19,
   "id": "cac9b3c5-70e9-4668-9e60-4d811b4be02e",
   "metadata": {},
   "outputs": [
    {
     "name": "stdout",
     "output_type": "stream",
     "text": [
      "ABC\n",
      "ACB\n",
      "BAC\n",
      "BCA\n",
      "CAB\n",
      "CBA\n"
     ]
    }
   ],
   "source": [
    "#13. Write a Python program to generate all permutations of a given string.\n",
    "# Recursive function to generate all permutations of a string\n",
    "def permutations(remaining, candidate=''):\n",
    " \n",
    "    if len(remaining) == 0:\n",
    "        print(candidate)\n",
    " \n",
    "    for i in range(len(remaining)):\n",
    " \n",
    "        newCandidate = candidate + remaining[i]\n",
    "        newRemaining = remaining[0:i] + remaining[i+1:]\n",
    " \n",
    "        permutations(newRemaining, newCandidate)\n",
    " \n",
    " \n",
    "if __name__ == '__main__':\n",
    " \n",
    "    s = 'ABC'\n",
    "    permutations(s)"
   ]
  },
  {
   "cell_type": "code",
   "execution_count": 20,
   "id": "d92407dc-e2ad-4a28-aa37-256947499588",
   "metadata": {},
   "outputs": [
    {
     "name": "stdout",
     "output_type": "stream",
     "text": [
      "0\n",
      "1\n",
      "1\n",
      "2\n",
      "3\n",
      "5\n",
      "8\n",
      "13\n",
      "21\n",
      "34\n",
      "55\n"
     ]
    }
   ],
   "source": [
    "#14 Implement a function to calculate the Fibonacci sequence up to a given number of terms.\n",
    "n = 10\n",
    "def fibonacci(n:int)->None:\n",
    "    \"\"\"Prints the fibonacci sequence of a length equal to\n",
    "    integer n\n",
    "\n",
    "    Args:\n",
    "        n (int): integer\n",
    "    Returns (None) : Prints the sequence\n",
    "    \"\"\"\n",
    "    i=0\n",
    "    a=0\n",
    "    b=1\n",
    "    sum = 0\n",
    "    while i<=n:\n",
    "        print(a)\n",
    "        sum = a+b\n",
    "        a,b = b,sum\n",
    "        i+=1\n",
    "fibonacci(n)\n",
    "    "
   ]
  },
  {
   "cell_type": "code",
   "execution_count": 21,
   "id": "98244973-3104-40c3-8778-0250375885c8",
   "metadata": {},
   "outputs": [
    {
     "data": {
      "text/plain": [
       "4"
      ]
     },
     "execution_count": 21,
     "metadata": {},
     "output_type": "execute_result"
    }
   ],
   "source": [
    "# Write a program to find the median of a list of numbers\n",
    "l = [1,2,3,4,5,6,8]\n",
    "def medianFinder(l:list[int])->float:\n",
    "    \"\"\"calculate median for an array of integers\n",
    "\n",
    "    Args:\n",
    "        l (list[int]): array of integers\n",
    "\n",
    "    Returns:\n",
    "        float: median for the array of integers\n",
    "    \"\"\"\n",
    "    if len(l)%2!=0:\n",
    "        return l[len(l)//2]\n",
    "    else:\n",
    "        mid = int(len(l)/2)\n",
    "        median = (l[mid-1] + l[mid])/ 2\n",
    "        return median\n",
    "medianFinder(l)"
   ]
  },
  {
   "cell_type": "code",
   "execution_count": 23,
   "id": "8ddf9305-fdf2-46a9-bae7-4deaf0cf5acf",
   "metadata": {},
   "outputs": [
    {
     "data": {
      "text/plain": [
       "True"
      ]
     },
     "execution_count": 23,
     "metadata": {},
     "output_type": "execute_result"
    }
   ],
   "source": [
    "#16. Implement a function to check if a given list is sorted in non-decreasing order.\n",
    "l = [1,2,3,4,5,6,8,9]\n",
    "def sortChecker(l:list)->bool:\n",
    "    \"\"\"Checks if a list is sorted in non-decreasing order\n",
    "\n",
    "    Args:\n",
    "        l (list): list of elements\n",
    "\n",
    "    Returns:\n",
    "        bool: True if sorted in non-decreasing order else False\n",
    "    \"\"\"\n",
    "    if l == sorted(l):\n",
    "        return True\n",
    "    return False\n",
    "sortChecker(l)"
   ]
  },
  {
   "cell_type": "code",
   "execution_count": 24,
   "id": "6d7d199b-9910-4f80-8d90-a5f6127b2515",
   "metadata": {},
   "outputs": [
    {
     "data": {
      "text/plain": [
       "[2, 3, 6]"
      ]
     },
     "execution_count": 24,
     "metadata": {},
     "output_type": "execute_result"
    }
   ],
   "source": [
    "#17. Write a Python program to find the intersection of two lists.\n",
    "l1 = [1,2,3,4,5,6]\n",
    "l2 = [9,8,2,3,6,10]\n",
    "def commonElements(l1:list,l2:list)->list:\n",
    "    \"\"\"Finds the common elements of 2 given list of elements\n",
    "\n",
    "    Args:\n",
    "        l1 (list): list of elements\n",
    "        l2 (list): list of elements\n",
    "\n",
    "    Returns:\n",
    "        list: list of common elements\n",
    "    \"\"\"\n",
    "    return list(set(l1).intersection(l2))\n",
    "commonElements(l1,l2)"
   ]
  },
  {
   "cell_type": "code",
   "execution_count": 25,
   "id": "d27fe944-04cf-4b8a-984f-9310696440ad",
   "metadata": {},
   "outputs": [
    {
     "data": {
      "text/plain": [
       "6"
      ]
     },
     "execution_count": 25,
     "metadata": {},
     "output_type": "execute_result"
    }
   ],
   "source": [
    "#18. Implement a function to find the maximum subarray sum in a given list.\n",
    "nums = [-2,1,-3,4,-1,2,1,-5,4]\n",
    "def maxSubarraySum(nums:list[int])->int:\n",
    "    \"\"\"finds and returns the maximum subarray sum\n",
    "\n",
    "    Args:\n",
    "        nums (list[int]): array of numbers\n",
    "\n",
    "    Returns:\n",
    "        int: maximum subarray sum\n",
    "    \"\"\"\n",
    "    sum = 0\n",
    "    maxtillend = 0\n",
    "    if len(nums) == 1:\n",
    "        return nums[0]\n",
    "    else:\n",
    "        for i in nums:\n",
    "            maxtillend += i\n",
    "            if sum < maxtillend:\n",
    "                sum = maxtillend\n",
    "            if maxtillend < 0:\n",
    "                maxtillend = 0\n",
    "        return sum\n",
    "maxSubarraySum(nums)"
   ]
  },
  {
   "cell_type": "code",
   "execution_count": 27,
   "id": "15cada18-e224-4e56-b55d-b5bae862fc26",
   "metadata": {},
   "outputs": [
    {
     "data": {
      "text/plain": [
       "'Arv'"
      ]
     },
     "execution_count": 27,
     "metadata": {},
     "output_type": "execute_result"
    }
   ],
   "source": [
    "#19.Write a program to remove all vowels from a given string.\n",
    "\n",
    "s = \"Aarav\"\n",
    "def removeVowels(s:str)->str:\n",
    "    \"\"\"removes all vowels from a string and returns it\n",
    "\n",
    "    Args:\n",
    "        s (str): string\n",
    "\n",
    "    Returns:\n",
    "        str: string with vowels removed\n",
    "    \"\"\"\n",
    "    l = []\n",
    "    for i in s:\n",
    "        if i not in \"aeiou\":\n",
    "            l.append(i)\n",
    "    return (\"\".join(l))\n",
    "removeVowels(s)"
   ]
  },
  {
   "cell_type": "code",
   "execution_count": 28,
   "id": "95a4c973-4b93-465d-bbc8-a681a76d9f2a",
   "metadata": {},
   "outputs": [
    {
     "data": {
      "text/plain": [
       "'Kumari Muskan is name My'"
      ]
     },
     "execution_count": 28,
     "metadata": {},
     "output_type": "execute_result"
    }
   ],
   "source": [
    "#20.Implement a function to reverse the order of words in a given sentence.\n",
    "\n",
    "s=\"My name is Muskan Kumari\"\n",
    "def wordReversal(s:str)->str:\n",
    "    \"\"\"takes a sentence and returns a string with each word reversed\n",
    "\n",
    "    Args:\n",
    "        s (str): string representation of the sentence\n",
    "\n",
    "    Returns:\n",
    "        str: string representation of the sentence with each word reversed\n",
    "    \"\"\"\n",
    "    return (\" \".join(s.split()[::-1]))\n",
    "wordReversal(s)"
   ]
  },
  {
   "cell_type": "code",
   "execution_count": 29,
   "id": "a9bfcaee-93fc-4439-978f-a3b4bc166731",
   "metadata": {},
   "outputs": [
    {
     "data": {
      "text/plain": [
       "True"
      ]
     },
     "execution_count": 29,
     "metadata": {},
     "output_type": "execute_result"
    }
   ],
   "source": [
    "#21. Write a Python program to check if two strings are anagrams of each other.\n",
    "a = \"listen\"\n",
    "b = \"silent\"\n",
    "def isAnagram(a:str,b:str)->bool:\n",
    "    \"\"\"checks if a and b are anagrams\n",
    "\n",
    "    Args:\n",
    "        a (str): string to check\n",
    "        b (str): string to check\n",
    "\n",
    "    Returns:\n",
    "        bool: True if a and b are anagrams else False\n",
    "    \"\"\"\n",
    "    if sorted(a) == sorted(b):\n",
    "        return True\n",
    "    else:\n",
    "        return False\n",
    "isAnagram(a,b)"
   ]
  },
  {
   "cell_type": "code",
   "execution_count": 30,
   "id": "ff73aea4-cee8-4520-8e75-389ab15c59d8",
   "metadata": {},
   "outputs": [
    {
     "data": {
      "text/plain": [
       "'z'"
      ]
     },
     "execution_count": 30,
     "metadata": {},
     "output_type": "execute_result"
    }
   ],
   "source": [
    "#22. Implement a function to find the first non-repeating character in a string.\n",
    "s = \"bzcbabc\"\n",
    "def nonRepeatingChar(s:str)->str:\n",
    "    \"\"\"Finds and returns the first non-repeating character from \n",
    "    the given string s\n",
    "\n",
    "    Args:\n",
    "        s (str): string\n",
    "\n",
    "    Returns:\n",
    "        str: first non-repeating character\n",
    "    \"\"\"\n",
    "    d = dict()\n",
    "    for i in s:\n",
    "        d[i] = d.get(i,0) +1\n",
    "    return list(key for key , val in d.items() if val == 1)[0]\n",
    "nonRepeatingChar(s)"
   ]
  },
  {
   "cell_type": "code",
   "execution_count": 32,
   "id": "6929758b-24f0-442f-9f21-974d0439d421",
   "metadata": {},
   "outputs": [
    {
     "name": "stdout",
     "output_type": "stream",
     "text": [
      "2\n",
      "2\n",
      "2\n",
      "2\n",
      "3\n",
      "3\n",
      "3\n"
     ]
    }
   ],
   "source": [
    "#23. Write a program to find the prime factors of a given number.\n",
    "n=432\n",
    "def primeNumbers(n:int):\n",
    "    import math\n",
    "    \"\"\"Prints all the prime factors of a given number\n",
    "\n",
    "    Args:\n",
    "        n (int): Integer number\n",
    "    \"\"\"\n",
    "    while n%2==0:\n",
    "        n = n/2\n",
    "        print(2)\n",
    "        \n",
    "    for i in range(3,int(math.sqrt(n)),2):\n",
    "        while n%i==0:\n",
    "            n= n/i\n",
    "            print(i)\n",
    "    if n>2:\n",
    "        print(n)\n",
    "primeNumbers(n)\n",
    "        "
   ]
  },
  {
   "cell_type": "code",
   "execution_count": 33,
   "id": "6c8f2111-f22a-4407-84b2-025fc77a86bd",
   "metadata": {},
   "outputs": [
    {
     "data": {
      "text/plain": [
       "True"
      ]
     },
     "execution_count": 33,
     "metadata": {},
     "output_type": "execute_result"
    }
   ],
   "source": [
    "#24. Implement a function to check if a given number is a power of two.\n",
    "n = 64\n",
    "def powerofTwo(n:int)->bool:\n",
    "    \"\"\"checks if an integer is a power of two\n",
    "\n",
    "    Args:\n",
    "        n (int): integer\n",
    "\n",
    "    Returns:\n",
    "        bool: True if the integer is a power of two else False\n",
    "    \"\"\"\n",
    "    if n==1:\n",
    "        return True\n",
    "    elif n%2 !=0 or n==0:\n",
    "        return False\n",
    "    \n",
    "    return powerofTwo(n/2)\n",
    "powerofTwo(n)"
   ]
  },
  {
   "cell_type": "code",
   "execution_count": 34,
   "id": "0501e2fe-f0c1-4e26-ae15-2af31a139f29",
   "metadata": {},
   "outputs": [
    {
     "data": {
      "text/plain": [
       "[1, 2, 2, 3, 4, 5, 7, 8, 9]"
      ]
     },
     "execution_count": 34,
     "metadata": {},
     "output_type": "execute_result"
    }
   ],
   "source": [
    "#25. Write a Python program to merge two sorted lists into a single sorted list.\n",
    "l1 = [1,2,4,5,9]\n",
    "l2 = [2,3,7,8]\n",
    "def mergeSort(l1:list[int],l2:list[int])->list[int]:\n",
    "    \"\"\"merges 2 sorted lists and returns a sorted list\n",
    "\n",
    "    Args:\n",
    "        l1 (list[int]): sorted list\n",
    "        l2 (list[int]): sorted list\n",
    "\n",
    "    Returns:\n",
    "        list[int]: merged sorted list\n",
    "    \"\"\"\n",
    "    l1.extend(l2)\n",
    "    return sorted(l1)\n",
    "mergeSort(l1,l2)"
   ]
  },
  {
   "cell_type": "code",
   "execution_count": 35,
   "id": "6035d43e-ac9c-4c27-af1e-737473c8ba2c",
   "metadata": {},
   "outputs": [
    {
     "data": {
      "text/plain": [
       "[5, 6]"
      ]
     },
     "execution_count": 35,
     "metadata": {},
     "output_type": "execute_result"
    }
   ],
   "source": [
    "#26. Implement a function to find the mode of a list of numbers.\n",
    "l = [2,2,2,3,3,3,3,4,4,5,5,5,5,5,6,6,6,6,6]\n",
    "def modeFinder(l:list[int])->int:\n",
    "    \"\"\"Finds the mode of a list of integers\n",
    "\n",
    "    Args:\n",
    "        l (list[int]): list of integers\n",
    "\n",
    "    Returns:\n",
    "        int: returns the mode\n",
    "    \"\"\"\n",
    "    d = dict()\n",
    "    for i in l:\n",
    "        d[i] = d.get(i, 0) + 1\n",
    "    m = max(d.values())\n",
    "    return [key for (key, value) in d.items() if value == m]\n",
    "modeFinder(l)"
   ]
  },
  {
   "cell_type": "code",
   "execution_count": 37,
   "id": "c11c4553-939d-4132-95ae-3a87be254b31",
   "metadata": {},
   "outputs": [
    {
     "data": {
      "text/plain": [
       "8"
      ]
     },
     "execution_count": 37,
     "metadata": {},
     "output_type": "execute_result"
    }
   ],
   "source": [
    "#27. Write a program to find the greatest common divisor (GCD) of two numbers.\n",
    "#Euclidean algorithm for GCD using Recursion\n",
    "a = 40\n",
    "b = 8\n",
    "def gcd(a:int, b:int)->int:\n",
    "    \"\"\"calculates the GCD for a and b\n",
    "     and returns the corresponding value\n",
    "\n",
    "    Args:\n",
    "        a (int): integer\n",
    "        b (int): integer\n",
    "\n",
    "    Returns:\n",
    "        int: Greatest common divisor of a and b\n",
    "    \"\"\"\n",
    "    if b==0:\n",
    "        return a\n",
    "    return gcd(b,a%b)\n",
    "\n",
    "gcd(a,b)"
   ]
  },
  {
   "cell_type": "code",
   "execution_count": 38,
   "id": "37905c7e-f359-4a20-9519-7ba38a019942",
   "metadata": {},
   "outputs": [
    {
     "data": {
      "text/plain": [
       "3.0"
      ]
     },
     "execution_count": 38,
     "metadata": {},
     "output_type": "execute_result"
    }
   ],
   "source": [
    "#28. Implement a function to calculate the square root of a given number.\n",
    "x = 9\n",
    "def squareRoot(x:int)->float:\n",
    "    \"\"\"Calculate and return the square root of the\n",
    "    integer x\n",
    "\n",
    "    Args:\n",
    "        x (int): integer value\n",
    "\n",
    "    Returns:\n",
    "        float: square root of x\n",
    "    \"\"\"\n",
    "    return x**0.5\n",
    "squareRoot(x)"
   ]
  },
  {
   "cell_type": "code",
   "execution_count": 40,
   "id": "50efbb4d-7252-4043-b92b-7eb3be579325",
   "metadata": {},
   "outputs": [
    {
     "data": {
      "text/plain": [
       "True"
      ]
     },
     "execution_count": 40,
     "metadata": {},
     "output_type": "execute_result"
    }
   ],
   "source": [
    "#29. Write a Python program to check if a given string is a valid palindrome ignoring non-alphanumeric characters.\n",
    "s = \"level#\"\n",
    "def isPalindrome(s:str)->bool:\n",
    "    \"\"\"Checks if a string is palindrome\n",
    "    after ignoring the non-alphanumeric characters\n",
    "\n",
    "    Args:\n",
    "        s (str): string to check\n",
    "\n",
    "    Returns:\n",
    "        bool: True if the string is palindrome else False\n",
    "    \"\"\"\n",
    "\n",
    "    ans=\"\"\n",
    "    for i in s:\n",
    "        \n",
    "        if i.isalpha() or i.isnumeric():\n",
    "            ans+=i\n",
    "    if ans == ans[::-1]:\n",
    "        return True\n",
    "    return False\n",
    "\n",
    "isPalindrome(s)"
   ]
  },
  {
   "cell_type": "code",
   "execution_count": 41,
   "id": "66bdaea0-fe29-4042-8d25-1568e1b3820a",
   "metadata": {},
   "outputs": [
    {
     "data": {
      "text/plain": [
       "1"
      ]
     },
     "execution_count": 41,
     "metadata": {},
     "output_type": "execute_result"
    }
   ],
   "source": [
    "#30. Implement a function to find the minimum element in a rotated sorted list.\n",
    "arr = [5, 6, 1, 2, 3, 4]\n",
    "def minElement(arr:list[int])->int:\n",
    "    \"\"\"finds and returns the minimum element of a\n",
    "    rotated sorted list\n",
    "\n",
    "    Args:\n",
    "        arr (list[int]): array of integers\n",
    "\n",
    "    Returns:\n",
    "        int: minimum integer\n",
    "    \"\"\"\n",
    "    return min(arr)\n",
    "minElement(arr)"
   ]
  },
  {
   "cell_type": "code",
   "execution_count": 42,
   "id": "7920949d-f6d0-4189-8375-00e90bdab296",
   "metadata": {},
   "outputs": [
    {
     "data": {
      "text/plain": [
       "12"
      ]
     },
     "execution_count": 42,
     "metadata": {},
     "output_type": "execute_result"
    }
   ],
   "source": [
    "#31. Write a program to find the sum of all even numbers in a list.\n",
    "l = [1,2,3,4,5,6]\n",
    "def evenSum(l: list[int])->int:\n",
    "    \"\"\"Returns the even sum of all integers\n",
    "    in the list l\n",
    "\n",
    "    Args:\n",
    "        l (list[int]): list of integers\n",
    "\n",
    "    Returns:\n",
    "        int: sum of all even integers\n",
    "    \"\"\"\n",
    "    return sum([i for i in l if i%2==0])\n",
    "evenSum(l)"
   ]
  },
  {
   "cell_type": "code",
   "execution_count": 44,
   "id": "3c9ead6d-4f4f-43f7-a609-79ec9fdf6079",
   "metadata": {},
   "outputs": [
    {
     "data": {
      "text/plain": [
       "256"
      ]
     },
     "execution_count": 44,
     "metadata": {},
     "output_type": "execute_result"
    }
   ],
   "source": [
    "#32. Implement a function to calculate the power of a number using recursion.\n",
    "x , n = 2, 8# same as 2**9\n",
    "def powerof2(n:int,x:int)->int:\n",
    "    if n==0:\n",
    "        return 1\n",
    "    elif n==1:\n",
    "        return x\n",
    "    elif n<0:\n",
    "        n = -n\n",
    "        x = 1/x\n",
    "        return powerof2(n,x)\n",
    "    else:\n",
    "        d = powerof2(n//2,x)\n",
    "        ans = d * d\n",
    "        if n%2 != 0:\n",
    "            return x*ans\n",
    "        return ans\n",
    "\n",
    "powerof2(n,x)\n",
    "        "
   ]
  },
  {
   "cell_type": "code",
   "execution_count": 45,
   "id": "31e02b86-499d-4f99-a2e4-b9ec4a572762",
   "metadata": {},
   "outputs": [
    {
     "data": {
      "text/plain": [
       "[1, 2, 3, 4, 6, 7, 8]"
      ]
     },
     "execution_count": 45,
     "metadata": {},
     "output_type": "execute_result"
    }
   ],
   "source": [
    "#33. Write a Python program to remove duplicates from a list while preserving the order\n",
    "l = [1,1,1,1,2,2,3,4,4,3,3,3,6,6,6,7,8,6,4,4,6]\n",
    "def listDeduplication(l:list)->list:\n",
    "    \"\"\"Remove duplicates from the list\n",
    "    while preserving the the order of the elements\n",
    "\n",
    "    Args:\n",
    "        l (list): list of elements\n",
    "\n",
    "    Returns:\n",
    "        list: list without duplicates\n",
    "    \"\"\"\n",
    "    ans = []\n",
    "    for i in l:\n",
    "        if i not in ans:\n",
    "            ans.append(i)\n",
    "    return ans\n",
    "listDeduplication(l)"
   ]
  },
  {
   "cell_type": "code",
   "execution_count": 47,
   "id": "fa5838a5-53eb-4fa9-8b87-456f30800f08",
   "metadata": {},
   "outputs": [
    {
     "data": {
      "text/plain": [
       "'gee'"
      ]
     },
     "execution_count": 47,
     "metadata": {},
     "output_type": "execute_result"
    }
   ],
   "source": [
    "#34. Implement a function to find the longest common prefix among a list of strings.\n",
    "a =['geeksforgeeks', 'geek', 'geek', 'geezer']\n",
    "def longestCommonPrefix(a:list[str])->str:\n",
    "    \"\"\"Takes a list of strings as arguments and returns\n",
    "    the longest common prefix among them\n",
    "\n",
    "    Args:\n",
    "        a (list[str]): list of strings\n",
    "\n",
    "    Returns:\n",
    "        str: longest common prefix\n",
    "    \"\"\"\n",
    "    size = len(a)\n",
    "    if size==0:\n",
    "        return \"empty\"\n",
    "    if size==1:\n",
    "        return a[0]\n",
    "    \n",
    "    a.sort()\n",
    "    \n",
    "    i = 0\n",
    "    end = min(len(a[0]), len(a[size-1]))\n",
    "    while (i<end) and (a[0][i]==a[size-1][i]):\n",
    "        i+=1\n",
    "    \n",
    "    return a[0][:i]\n",
    "longestCommonPrefix(a)\n",
    "    "
   ]
  },
  {
   "cell_type": "code",
   "execution_count": 49,
   "id": "246c1fb5-7f22-48b4-9ae5-6573c955e358",
   "metadata": {},
   "outputs": [
    {
     "data": {
      "text/plain": [
       "False"
      ]
     },
     "execution_count": 49,
     "metadata": {},
     "output_type": "execute_result"
    }
   ],
   "source": [
    "#35. Write a program to check if a given number is a perfect square.\n",
    "n = 6\n",
    "def perfectSquare(n:int)->bool:\n",
    "    \"\"\"Checks if a given number n\n",
    "    is a perfect square\n",
    "\n",
    "    Args:\n",
    "        n (int): integer\n",
    "\n",
    "    Returns:\n",
    "        bool: True if n is a perfect square\n",
    "    \"\"\"\n",
    "    if n==0:\n",
    "        return False\n",
    "    elif n==1:\n",
    "        return True\n",
    "    for i in range(2,n//2+1):\n",
    "        if i*i == n:\n",
    "            return True\n",
    "    return False\n",
    "perfectSquare(n)"
   ]
  },
  {
   "cell_type": "code",
   "execution_count": 50,
   "id": "12750ccd-914c-498f-9a85-a96055556005",
   "metadata": {},
   "outputs": [
    {
     "data": {
      "text/plain": [
       "720"
      ]
     },
     "execution_count": 50,
     "metadata": {},
     "output_type": "execute_result"
    }
   ],
   "source": [
    "#36. Implement a function to calculate the product of all elements in a list.\n",
    "l = [1,2,3,4,5,6]\n",
    "def listProduct(l:list[int or float])->int or float:\n",
    "    \"\"\"Takes a list of numbers and returns\n",
    "    the product of the numbers\n",
    "\n",
    "    Args:\n",
    "        l (list[int or float]): list of numbers\n",
    "\n",
    "    Returns:\n",
    "        int or float: product of the numbers\n",
    "    \"\"\"\n",
    "    product = 1\n",
    "    for i in l:\n",
    "        product *= i\n",
    "    return product\n",
    "listProduct(l)"
   ]
  },
  {
   "cell_type": "code",
   "execution_count": 52,
   "id": "1a72f291-449b-4014-b189-bf4655349d61",
   "metadata": {},
   "outputs": [
    {
     "data": {
      "text/plain": [
       "'I ma na naidnI'"
      ]
     },
     "execution_count": 52,
     "metadata": {},
     "output_type": "execute_result"
    }
   ],
   "source": [
    "#37. Write a Python program to reverse the order of words in a sentence while preserving the word order.\n",
    "\n",
    "s=\"I am an Indian\"\n",
    "def strWordReversal(s:str)->str:\n",
    "    \"\"\"Takes a string of words and reverses the\n",
    "    words while preserving the order of words\n",
    "\n",
    "    Args:\n",
    "        s (str): string of words\n",
    "\n",
    "    Returns:\n",
    "        str: string with words reversed while preserving\n",
    "        the order of words\n",
    "    \"\"\"\n",
    "    l = s.split()\n",
    "    for i in range(len(l)):\n",
    "        l[i] = l[i][::-1]\n",
    "    return(\" \".join(l))\n",
    "strWordReversal(s)"
   ]
  },
  {
   "cell_type": "code",
   "execution_count": 53,
   "id": "82bd83fe-63be-4861-b77f-71a9b5fd94d8",
   "metadata": {},
   "outputs": [
    {
     "data": {
      "text/plain": [
       "6"
      ]
     },
     "execution_count": 53,
     "metadata": {},
     "output_type": "execute_result"
    }
   ],
   "source": [
    "#38. Implement a function to find the missing number in a given list of consecutive numbers.\n",
    "arr = [9, 8, 7, 5, 4, 3, 2, 1, 0 ]\n",
    "\n",
    "def findMissing(arr:list[int])->int:\n",
    "    \"\"\"Find and return the missing number in a given\n",
    "    list of consecutive numbers\n",
    "\n",
    "    Args:\n",
    "        arr (list[int]): list of consecutive numbers\n",
    "\n",
    "    Returns:\n",
    "        int: missing number\n",
    "    \"\"\"\n",
    "    low = min(arr)\n",
    "    high = max(arr)\n",
    "    for i in range(low, high+1):\n",
    "        if i not in arr:\n",
    "            return i\n",
    "    return -1\n",
    "findMissing(arr)"
   ]
  },
  {
   "cell_type": "code",
   "execution_count": 54,
   "id": "5637af0a-d43d-4eaa-a13a-b05bc646001f",
   "metadata": {},
   "outputs": [
    {
     "data": {
      "text/plain": [
       "14"
      ]
     },
     "execution_count": 54,
     "metadata": {},
     "output_type": "execute_result"
    }
   ],
   "source": [
    "#39. Write a program to find the sum of digits of a given number.\n",
    "n = 167\n",
    "def sumofDigits(n:int)->int:\n",
    "    \"\"\"Calculate the sum of the digits of n\n",
    "    and returns their sum\n",
    "\n",
    "    Args:\n",
    "        n (int): integer\n",
    "\n",
    "    Returns:\n",
    "        int: _description_\n",
    "    \"\"\"\n",
    "    sum = 0\n",
    "    if n<0:\n",
    "        n=-n\n",
    "    for i in range(len(str(n))):\n",
    "        rem = n%10\n",
    "        sum+=rem\n",
    "        n = n//10\n",
    "    return(sum)\n",
    "sumofDigits(n)"
   ]
  },
  {
   "cell_type": "code",
   "execution_count": 55,
   "id": "4b72a02e-5983-4231-aade-afbdf99e58e9",
   "metadata": {},
   "outputs": [
    {
     "name": "stdout",
     "output_type": "stream",
     "text": [
      "False\n",
      "True\n"
     ]
    }
   ],
   "source": [
    "\n",
    "#40. Implement a function to check if a given string is a valid palindrome considering case sensitivity.\n",
    "s=\"Level\"\n",
    "p =\"level\"\n",
    "def isPalindrome(s:str)->bool:\n",
    "    \"\"\"checks if the string is a palindrome\n",
    "    considering case sensitivity\n",
    "\n",
    "    Args:\n",
    "        s (str): String to check\n",
    "\n",
    "    Returns:\n",
    "        bool: True if the string is palindrome\n",
    "    \"\"\"\n",
    "    return s == s[::-1]\n",
    "print(isPalindrome(s))\n",
    "print(isPalindrome(p))"
   ]
  },
  {
   "cell_type": "code",
   "execution_count": 56,
   "id": "f741493e-871d-4913-9211-857852815d92",
   "metadata": {},
   "outputs": [
    {
     "data": {
      "text/plain": [
       "4"
      ]
     },
     "execution_count": 56,
     "metadata": {},
     "output_type": "execute_result"
    }
   ],
   "source": [
    "#41. Write a Python program to find the smallest missing positive integer in a list.\n",
    "A = [2, 3, -7, 6, 8, 1, -10, 15]\n",
    "def minPositiveInt(A:list[int])->int:\n",
    "    \"\"\"Finds and returns the minimum\n",
    "    missing positive integer\n",
    "\n",
    "    Args:\n",
    "        l (list[int]): list of integers\n",
    "\n",
    "    Returns:\n",
    "        int: minimum positive integer missing\n",
    "    \"\"\"\n",
    "    m = max(A)  # Storing maximum value\n",
    "    if m < 1:\n",
    " \n",
    "        # In case all values in our array are negative\n",
    "        return 1\n",
    "    if len(A) == 1:\n",
    " \n",
    "        # If it contains only one element\n",
    "        return 2 if A[0] == 1 else 1\n",
    "    l = [0] * m\n",
    "    for i in range(len(A)):\n",
    "        if A[i] > 0:\n",
    "            if l[A[i] - 1] != 1:\n",
    " \n",
    "                # Changing the value status at the index of our list\n",
    "                l[A[i] - 1] = 1\n",
    "    for i in range(len(l)):\n",
    " \n",
    "        # Encountering first 0, i.e, the element with least value\n",
    "        if l[i] == 0:\n",
    "            return i + 1\n",
    "            # In case all values are filled between 1 and m\n",
    "    return i + 2\n",
    " \n",
    "minPositiveInt(A)"
   ]
  },
  {
   "cell_type": "code",
   "execution_count": 57,
   "id": "84ca9f63-5e16-4449-9da8-eaddd5de7813",
   "metadata": {},
   "outputs": [
    {
     "name": "stdout",
     "output_type": "stream",
     "text": [
      "geeksskeeg\n"
     ]
    }
   ],
   "source": [
    "#42. Implement a function to find the longest palindrome substring in a given string.\n",
    "s = 'forgeeksskeegfor'\n",
    "pal = \"\"\n",
    "for i in range(len(s)):\n",
    "    for j in range(i, len(s)):\n",
    "        string = s[i:j]\n",
    "        if string == string[::-1] and len(string) > len(pal):\n",
    "            pal = string\n",
    "print(pal)"
   ]
  },
  {
   "cell_type": "code",
   "execution_count": 58,
   "id": "9aaea79d-6d37-4675-b4a4-3105f39fa8a9",
   "metadata": {},
   "outputs": [
    {
     "data": {
      "text/plain": [
       "{1: 4, 2: 4, 3: 3, 4: 2, 6: 1, 5: 1}"
      ]
     },
     "execution_count": 58,
     "metadata": {},
     "output_type": "execute_result"
    }
   ],
   "source": [
    "#43. Write a program to find the number of occurrences of a given element in a list.\n",
    "l = [1,2,1,2,3,4,4,3,2,1,6,5,3,2,1]\n",
    "def countOccurance(l:list)->dict:\n",
    "    \"\"\"Takes a list of elements and counts the number of occurance\n",
    "    and returns a dictionary containing the counts\n",
    "\n",
    "    Args:\n",
    "        l (list): list of elements\n",
    "\n",
    "    Returns:\n",
    "        dict: key = element, value = count\n",
    "    \"\"\"\n",
    "    d = dict()\n",
    "    for i in l:\n",
    "        d[i] = d.get(i,0) + 1\n",
    "    return (d)\n",
    "countOccurance(l)"
   ]
  },
  {
   "cell_type": "code",
   "execution_count": 59,
   "id": "6aed43cb-43ba-4bfb-b438-2b5aa2118d97",
   "metadata": {},
   "outputs": [
    {
     "data": {
      "text/plain": [
       "True"
      ]
     },
     "execution_count": 59,
     "metadata": {},
     "output_type": "execute_result"
    }
   ],
   "source": [
    "#44. Implement a function to check if a given number is a perfect number.\n",
    "n =28\n",
    "def perfectNumber(n:int)->bool:\n",
    "    \"\"\"Determines whether n is a perfect number i.e the n is equal to \n",
    "    sum of its perfect divisors\n",
    "\n",
    "    Args:\n",
    "        n (int): integer number\n",
    "\n",
    "    Returns:\n",
    "        bool: True if n is a perfect number\n",
    "    \"\"\"\n",
    "    if n == 0:\n",
    "        return False\n",
    "    else:\n",
    "        sum = 0\n",
    "        for i in range(1,n):\n",
    "            if n%i == 0:\n",
    "                sum+=i\n",
    "    if n == sum:\n",
    "        return True\n",
    "    return False\n",
    "perfectNumber(n)"
   ]
  },
  {
   "cell_type": "code",
   "execution_count": null,
   "id": "d4998bfb-6c98-4cd0-9fa5-17a9ae6795fb",
   "metadata": {},
   "outputs": [],
   "source": []
  }
 ],
 "metadata": {
  "kernelspec": {
   "display_name": "Python 3 (ipykernel)",
   "language": "python",
   "name": "python3"
  },
  "language_info": {
   "codemirror_mode": {
    "name": "ipython",
    "version": 3
   },
   "file_extension": ".py",
   "mimetype": "text/x-python",
   "name": "python",
   "nbconvert_exporter": "python",
   "pygments_lexer": "ipython3",
   "version": "3.10.8"
  }
 },
 "nbformat": 4,
 "nbformat_minor": 5
}
